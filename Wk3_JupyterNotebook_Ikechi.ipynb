{
  "nbformat": 4,
  "nbformat_minor": 0,
  "metadata": {
    "colab": {
      "provenance": []
    },
    "kernelspec": {
      "name": "python3",
      "display_name": "Python 3"
    },
    "language_info": {
      "name": "python"
    }
  },
  "cells": [
    {
      "cell_type": "markdown",
      "source": [
        "Imports"
      ],
      "metadata": {
        "id": "YMUjW7_9e8R8"
      }
    },
    {
      "cell_type": "code",
      "source": [
        "\n",
        "import pandas as pd\n",
        "import kagglehub\n",
        "import numpy as np\n",
        "from sklearn.model_selection import train_test_split\n",
        "from sklearn.linear_model import LinearRegression, LassoCV, RidgeCV\n",
        "from sklearn.metrics import mean_squared_error, mean_absolute_error, r2_score\n",
        "import statsmodels.api as sm\n",
        "import matplotlib.pyplot as plt\n",
        "import seaborn as sns\n",
        "from sklearn.preprocessing import StandardScaler\n",
        "from sklearn.pipeline import make_pipeline"
      ],
      "metadata": {
        "id": "YP9M44qDd6G6"
      },
      "execution_count": 2,
      "outputs": []
    },
    {
      "cell_type": "markdown",
      "source": [
        "Load Dataset"
      ],
      "metadata": {
        "id": "oQXsGxTye5pm"
      }
    },
    {
      "cell_type": "code",
      "execution_count": 3,
      "metadata": {
        "colab": {
          "base_uri": "https://localhost:8080/",
          "height": 291
        },
        "id": "0hSlBOpOVzjb",
        "outputId": "83792407-bdbf-4ffb-91ad-31439e442911"
      },
      "outputs": [
        {
          "output_type": "stream",
          "name": "stdout",
          "text": [
            "Using Colab cache for faster access to the 'colorectal-cancer-global-dataset-and-predictions' dataset.\n",
            "Path to dataset files: /kaggle/input/colorectal-cancer-global-dataset-and-predictions\n"
          ]
        },
        {
          "output_type": "execute_result",
          "data": {
            "text/plain": [
              "   Patient_ID Country  Age Gender Cancer_Stage  Tumor_Size_mm Family_History  \\\n",
              "0           1      UK   77      M    Localized             69             No   \n",
              "1           2      UK   59      M    Localized             33             No   \n",
              "2           3   Japan   66      M     Regional             17             No   \n",
              "3           4     USA   83      M     Regional             14             No   \n",
              "4           5  France   66      M    Localized             34             No   \n",
              "\n",
              "  Smoking_History Alcohol_Consumption Obesity_BMI  ... Survival_5_years  \\\n",
              "0              No                 Yes  Overweight  ...              Yes   \n",
              "1              No                  No  Overweight  ...              Yes   \n",
              "2             Yes                  No      Normal  ...              Yes   \n",
              "3              No                  No       Obese  ...              Yes   \n",
              "4             Yes                  No      Normal  ...              Yes   \n",
              "\n",
              "  Mortality Healthcare_Costs Incidence_Rate_per_100K Mortality_Rate_per_100K  \\\n",
              "0        No            54413                      50                       5   \n",
              "1        No            76553                      37                      25   \n",
              "2        No            62805                      54                      27   \n",
              "3        No            89393                      45                      11   \n",
              "4        No            66425                      15                      27   \n",
              "\n",
              "  Urban_or_Rural Economic_Classification Healthcare_Access Insurance_Status  \\\n",
              "0          Urban               Developed          Moderate          Insured   \n",
              "1          Urban              Developing              High        Uninsured   \n",
              "2          Urban               Developed          Moderate        Uninsured   \n",
              "3          Urban               Developed          Moderate          Insured   \n",
              "4          Urban              Developing              High          Insured   \n",
              "\n",
              "  Survival_Prediction  \n",
              "0                 Yes  \n",
              "1                 Yes  \n",
              "2                  No  \n",
              "3                 Yes  \n",
              "4                 Yes  \n",
              "\n",
              "[5 rows x 28 columns]"
            ],
            "text/html": [
              "\n",
              "  <div id=\"df-2641acf9-9461-4e0d-a502-73247a497deb\" class=\"colab-df-container\">\n",
              "    <div>\n",
              "<style scoped>\n",
              "    .dataframe tbody tr th:only-of-type {\n",
              "        vertical-align: middle;\n",
              "    }\n",
              "\n",
              "    .dataframe tbody tr th {\n",
              "        vertical-align: top;\n",
              "    }\n",
              "\n",
              "    .dataframe thead th {\n",
              "        text-align: right;\n",
              "    }\n",
              "</style>\n",
              "<table border=\"1\" class=\"dataframe\">\n",
              "  <thead>\n",
              "    <tr style=\"text-align: right;\">\n",
              "      <th></th>\n",
              "      <th>Patient_ID</th>\n",
              "      <th>Country</th>\n",
              "      <th>Age</th>\n",
              "      <th>Gender</th>\n",
              "      <th>Cancer_Stage</th>\n",
              "      <th>Tumor_Size_mm</th>\n",
              "      <th>Family_History</th>\n",
              "      <th>Smoking_History</th>\n",
              "      <th>Alcohol_Consumption</th>\n",
              "      <th>Obesity_BMI</th>\n",
              "      <th>...</th>\n",
              "      <th>Survival_5_years</th>\n",
              "      <th>Mortality</th>\n",
              "      <th>Healthcare_Costs</th>\n",
              "      <th>Incidence_Rate_per_100K</th>\n",
              "      <th>Mortality_Rate_per_100K</th>\n",
              "      <th>Urban_or_Rural</th>\n",
              "      <th>Economic_Classification</th>\n",
              "      <th>Healthcare_Access</th>\n",
              "      <th>Insurance_Status</th>\n",
              "      <th>Survival_Prediction</th>\n",
              "    </tr>\n",
              "  </thead>\n",
              "  <tbody>\n",
              "    <tr>\n",
              "      <th>0</th>\n",
              "      <td>1</td>\n",
              "      <td>UK</td>\n",
              "      <td>77</td>\n",
              "      <td>M</td>\n",
              "      <td>Localized</td>\n",
              "      <td>69</td>\n",
              "      <td>No</td>\n",
              "      <td>No</td>\n",
              "      <td>Yes</td>\n",
              "      <td>Overweight</td>\n",
              "      <td>...</td>\n",
              "      <td>Yes</td>\n",
              "      <td>No</td>\n",
              "      <td>54413</td>\n",
              "      <td>50</td>\n",
              "      <td>5</td>\n",
              "      <td>Urban</td>\n",
              "      <td>Developed</td>\n",
              "      <td>Moderate</td>\n",
              "      <td>Insured</td>\n",
              "      <td>Yes</td>\n",
              "    </tr>\n",
              "    <tr>\n",
              "      <th>1</th>\n",
              "      <td>2</td>\n",
              "      <td>UK</td>\n",
              "      <td>59</td>\n",
              "      <td>M</td>\n",
              "      <td>Localized</td>\n",
              "      <td>33</td>\n",
              "      <td>No</td>\n",
              "      <td>No</td>\n",
              "      <td>No</td>\n",
              "      <td>Overweight</td>\n",
              "      <td>...</td>\n",
              "      <td>Yes</td>\n",
              "      <td>No</td>\n",
              "      <td>76553</td>\n",
              "      <td>37</td>\n",
              "      <td>25</td>\n",
              "      <td>Urban</td>\n",
              "      <td>Developing</td>\n",
              "      <td>High</td>\n",
              "      <td>Uninsured</td>\n",
              "      <td>Yes</td>\n",
              "    </tr>\n",
              "    <tr>\n",
              "      <th>2</th>\n",
              "      <td>3</td>\n",
              "      <td>Japan</td>\n",
              "      <td>66</td>\n",
              "      <td>M</td>\n",
              "      <td>Regional</td>\n",
              "      <td>17</td>\n",
              "      <td>No</td>\n",
              "      <td>Yes</td>\n",
              "      <td>No</td>\n",
              "      <td>Normal</td>\n",
              "      <td>...</td>\n",
              "      <td>Yes</td>\n",
              "      <td>No</td>\n",
              "      <td>62805</td>\n",
              "      <td>54</td>\n",
              "      <td>27</td>\n",
              "      <td>Urban</td>\n",
              "      <td>Developed</td>\n",
              "      <td>Moderate</td>\n",
              "      <td>Uninsured</td>\n",
              "      <td>No</td>\n",
              "    </tr>\n",
              "    <tr>\n",
              "      <th>3</th>\n",
              "      <td>4</td>\n",
              "      <td>USA</td>\n",
              "      <td>83</td>\n",
              "      <td>M</td>\n",
              "      <td>Regional</td>\n",
              "      <td>14</td>\n",
              "      <td>No</td>\n",
              "      <td>No</td>\n",
              "      <td>No</td>\n",
              "      <td>Obese</td>\n",
              "      <td>...</td>\n",
              "      <td>Yes</td>\n",
              "      <td>No</td>\n",
              "      <td>89393</td>\n",
              "      <td>45</td>\n",
              "      <td>11</td>\n",
              "      <td>Urban</td>\n",
              "      <td>Developed</td>\n",
              "      <td>Moderate</td>\n",
              "      <td>Insured</td>\n",
              "      <td>Yes</td>\n",
              "    </tr>\n",
              "    <tr>\n",
              "      <th>4</th>\n",
              "      <td>5</td>\n",
              "      <td>France</td>\n",
              "      <td>66</td>\n",
              "      <td>M</td>\n",
              "      <td>Localized</td>\n",
              "      <td>34</td>\n",
              "      <td>No</td>\n",
              "      <td>Yes</td>\n",
              "      <td>No</td>\n",
              "      <td>Normal</td>\n",
              "      <td>...</td>\n",
              "      <td>Yes</td>\n",
              "      <td>No</td>\n",
              "      <td>66425</td>\n",
              "      <td>15</td>\n",
              "      <td>27</td>\n",
              "      <td>Urban</td>\n",
              "      <td>Developing</td>\n",
              "      <td>High</td>\n",
              "      <td>Insured</td>\n",
              "      <td>Yes</td>\n",
              "    </tr>\n",
              "  </tbody>\n",
              "</table>\n",
              "<p>5 rows × 28 columns</p>\n",
              "</div>\n",
              "    <div class=\"colab-df-buttons\">\n",
              "\n",
              "  <div class=\"colab-df-container\">\n",
              "    <button class=\"colab-df-convert\" onclick=\"convertToInteractive('df-2641acf9-9461-4e0d-a502-73247a497deb')\"\n",
              "            title=\"Convert this dataframe to an interactive table.\"\n",
              "            style=\"display:none;\">\n",
              "\n",
              "  <svg xmlns=\"http://www.w3.org/2000/svg\" height=\"24px\" viewBox=\"0 -960 960 960\">\n",
              "    <path d=\"M120-120v-720h720v720H120Zm60-500h600v-160H180v160Zm220 220h160v-160H400v160Zm0 220h160v-160H400v160ZM180-400h160v-160H180v160Zm440 0h160v-160H620v160ZM180-180h160v-160H180v160Zm440 0h160v-160H620v160Z\"/>\n",
              "  </svg>\n",
              "    </button>\n",
              "\n",
              "  <style>\n",
              "    .colab-df-container {\n",
              "      display:flex;\n",
              "      gap: 12px;\n",
              "    }\n",
              "\n",
              "    .colab-df-convert {\n",
              "      background-color: #E8F0FE;\n",
              "      border: none;\n",
              "      border-radius: 50%;\n",
              "      cursor: pointer;\n",
              "      display: none;\n",
              "      fill: #1967D2;\n",
              "      height: 32px;\n",
              "      padding: 0 0 0 0;\n",
              "      width: 32px;\n",
              "    }\n",
              "\n",
              "    .colab-df-convert:hover {\n",
              "      background-color: #E2EBFA;\n",
              "      box-shadow: 0px 1px 2px rgba(60, 64, 67, 0.3), 0px 1px 3px 1px rgba(60, 64, 67, 0.15);\n",
              "      fill: #174EA6;\n",
              "    }\n",
              "\n",
              "    .colab-df-buttons div {\n",
              "      margin-bottom: 4px;\n",
              "    }\n",
              "\n",
              "    [theme=dark] .colab-df-convert {\n",
              "      background-color: #3B4455;\n",
              "      fill: #D2E3FC;\n",
              "    }\n",
              "\n",
              "    [theme=dark] .colab-df-convert:hover {\n",
              "      background-color: #434B5C;\n",
              "      box-shadow: 0px 1px 3px 1px rgba(0, 0, 0, 0.15);\n",
              "      filter: drop-shadow(0px 1px 2px rgba(0, 0, 0, 0.3));\n",
              "      fill: #FFFFFF;\n",
              "    }\n",
              "  </style>\n",
              "\n",
              "    <script>\n",
              "      const buttonEl =\n",
              "        document.querySelector('#df-2641acf9-9461-4e0d-a502-73247a497deb button.colab-df-convert');\n",
              "      buttonEl.style.display =\n",
              "        google.colab.kernel.accessAllowed ? 'block' : 'none';\n",
              "\n",
              "      async function convertToInteractive(key) {\n",
              "        const element = document.querySelector('#df-2641acf9-9461-4e0d-a502-73247a497deb');\n",
              "        const dataTable =\n",
              "          await google.colab.kernel.invokeFunction('convertToInteractive',\n",
              "                                                    [key], {});\n",
              "        if (!dataTable) return;\n",
              "\n",
              "        const docLinkHtml = 'Like what you see? Visit the ' +\n",
              "          '<a target=\"_blank\" href=https://colab.research.google.com/notebooks/data_table.ipynb>data table notebook</a>'\n",
              "          + ' to learn more about interactive tables.';\n",
              "        element.innerHTML = '';\n",
              "        dataTable['output_type'] = 'display_data';\n",
              "        await google.colab.output.renderOutput(dataTable, element);\n",
              "        const docLink = document.createElement('div');\n",
              "        docLink.innerHTML = docLinkHtml;\n",
              "        element.appendChild(docLink);\n",
              "      }\n",
              "    </script>\n",
              "  </div>\n",
              "\n",
              "\n",
              "    <div id=\"df-9595f1a4-7a5b-4313-ab90-6d8af23807a0\">\n",
              "      <button class=\"colab-df-quickchart\" onclick=\"quickchart('df-9595f1a4-7a5b-4313-ab90-6d8af23807a0')\"\n",
              "                title=\"Suggest charts\"\n",
              "                style=\"display:none;\">\n",
              "\n",
              "<svg xmlns=\"http://www.w3.org/2000/svg\" height=\"24px\"viewBox=\"0 0 24 24\"\n",
              "     width=\"24px\">\n",
              "    <g>\n",
              "        <path d=\"M19 3H5c-1.1 0-2 .9-2 2v14c0 1.1.9 2 2 2h14c1.1 0 2-.9 2-2V5c0-1.1-.9-2-2-2zM9 17H7v-7h2v7zm4 0h-2V7h2v10zm4 0h-2v-4h2v4z\"/>\n",
              "    </g>\n",
              "</svg>\n",
              "      </button>\n",
              "\n",
              "<style>\n",
              "  .colab-df-quickchart {\n",
              "      --bg-color: #E8F0FE;\n",
              "      --fill-color: #1967D2;\n",
              "      --hover-bg-color: #E2EBFA;\n",
              "      --hover-fill-color: #174EA6;\n",
              "      --disabled-fill-color: #AAA;\n",
              "      --disabled-bg-color: #DDD;\n",
              "  }\n",
              "\n",
              "  [theme=dark] .colab-df-quickchart {\n",
              "      --bg-color: #3B4455;\n",
              "      --fill-color: #D2E3FC;\n",
              "      --hover-bg-color: #434B5C;\n",
              "      --hover-fill-color: #FFFFFF;\n",
              "      --disabled-bg-color: #3B4455;\n",
              "      --disabled-fill-color: #666;\n",
              "  }\n",
              "\n",
              "  .colab-df-quickchart {\n",
              "    background-color: var(--bg-color);\n",
              "    border: none;\n",
              "    border-radius: 50%;\n",
              "    cursor: pointer;\n",
              "    display: none;\n",
              "    fill: var(--fill-color);\n",
              "    height: 32px;\n",
              "    padding: 0;\n",
              "    width: 32px;\n",
              "  }\n",
              "\n",
              "  .colab-df-quickchart:hover {\n",
              "    background-color: var(--hover-bg-color);\n",
              "    box-shadow: 0 1px 2px rgba(60, 64, 67, 0.3), 0 1px 3px 1px rgba(60, 64, 67, 0.15);\n",
              "    fill: var(--button-hover-fill-color);\n",
              "  }\n",
              "\n",
              "  .colab-df-quickchart-complete:disabled,\n",
              "  .colab-df-quickchart-complete:disabled:hover {\n",
              "    background-color: var(--disabled-bg-color);\n",
              "    fill: var(--disabled-fill-color);\n",
              "    box-shadow: none;\n",
              "  }\n",
              "\n",
              "  .colab-df-spinner {\n",
              "    border: 2px solid var(--fill-color);\n",
              "    border-color: transparent;\n",
              "    border-bottom-color: var(--fill-color);\n",
              "    animation:\n",
              "      spin 1s steps(1) infinite;\n",
              "  }\n",
              "\n",
              "  @keyframes spin {\n",
              "    0% {\n",
              "      border-color: transparent;\n",
              "      border-bottom-color: var(--fill-color);\n",
              "      border-left-color: var(--fill-color);\n",
              "    }\n",
              "    20% {\n",
              "      border-color: transparent;\n",
              "      border-left-color: var(--fill-color);\n",
              "      border-top-color: var(--fill-color);\n",
              "    }\n",
              "    30% {\n",
              "      border-color: transparent;\n",
              "      border-left-color: var(--fill-color);\n",
              "      border-top-color: var(--fill-color);\n",
              "      border-right-color: var(--fill-color);\n",
              "    }\n",
              "    40% {\n",
              "      border-color: transparent;\n",
              "      border-right-color: var(--fill-color);\n",
              "      border-top-color: var(--fill-color);\n",
              "    }\n",
              "    60% {\n",
              "      border-color: transparent;\n",
              "      border-right-color: var(--fill-color);\n",
              "    }\n",
              "    80% {\n",
              "      border-color: transparent;\n",
              "      border-right-color: var(--fill-color);\n",
              "      border-bottom-color: var(--fill-color);\n",
              "    }\n",
              "    90% {\n",
              "      border-color: transparent;\n",
              "      border-bottom-color: var(--fill-color);\n",
              "    }\n",
              "  }\n",
              "</style>\n",
              "\n",
              "      <script>\n",
              "        async function quickchart(key) {\n",
              "          const quickchartButtonEl =\n",
              "            document.querySelector('#' + key + ' button');\n",
              "          quickchartButtonEl.disabled = true;  // To prevent multiple clicks.\n",
              "          quickchartButtonEl.classList.add('colab-df-spinner');\n",
              "          try {\n",
              "            const charts = await google.colab.kernel.invokeFunction(\n",
              "                'suggestCharts', [key], {});\n",
              "          } catch (error) {\n",
              "            console.error('Error during call to suggestCharts:', error);\n",
              "          }\n",
              "          quickchartButtonEl.classList.remove('colab-df-spinner');\n",
              "          quickchartButtonEl.classList.add('colab-df-quickchart-complete');\n",
              "        }\n",
              "        (() => {\n",
              "          let quickchartButtonEl =\n",
              "            document.querySelector('#df-9595f1a4-7a5b-4313-ab90-6d8af23807a0 button');\n",
              "          quickchartButtonEl.style.display =\n",
              "            google.colab.kernel.accessAllowed ? 'block' : 'none';\n",
              "        })();\n",
              "      </script>\n",
              "    </div>\n",
              "\n",
              "    </div>\n",
              "  </div>\n"
            ],
            "application/vnd.google.colaboratory.intrinsic+json": {
              "type": "dataframe",
              "variable_name": "df"
            }
          },
          "metadata": {},
          "execution_count": 3
        }
      ],
      "source": [
        "path = kagglehub.dataset_download(\"ankushpanday2/colorectal-cancer-global-dataset-and-predictions\")\n",
        "\n",
        "print(\"Path to dataset files:\",path)\n",
        "df=pd.read_csv(path + \"/colorectal_cancer_dataset.csv\")\n",
        "df.head()"
      ]
    },
    {
      "cell_type": "markdown",
      "source": [
        "Data Exploration"
      ],
      "metadata": {
        "id": "r_MjS-VheyyI"
      }
    },
    {
      "cell_type": "code",
      "source": [
        "\n",
        "#df = df.drop('Patient_ID', axis=1)\n",
        "\n",
        "print(df.head())\n",
        "print(df.info())\n",
        "print(df.describe())\n",
        "print(df.isnull().sum())\n"
      ],
      "metadata": {
        "colab": {
          "base_uri": "https://localhost:8080/"
        },
        "id": "I0szDs_neUiN",
        "outputId": "f9056866-ab78-4935-ea4e-42759143a595"
      },
      "execution_count": 9,
      "outputs": [
        {
          "output_type": "stream",
          "name": "stdout",
          "text": [
            "  Country  Age Gender Cancer_Stage  Tumor_Size_mm Family_History  \\\n",
            "0      UK   77      M    Localized             69             No   \n",
            "1      UK   59      M    Localized             33             No   \n",
            "2   Japan   66      M     Regional             17             No   \n",
            "3     USA   83      M     Regional             14             No   \n",
            "4  France   66      M    Localized             34             No   \n",
            "\n",
            "  Smoking_History Alcohol_Consumption Obesity_BMI Diet_Risk  ...  \\\n",
            "0              No                 Yes  Overweight       Low  ...   \n",
            "1              No                  No  Overweight  Moderate  ...   \n",
            "2             Yes                  No      Normal       Low  ...   \n",
            "3              No                  No       Obese      High  ...   \n",
            "4             Yes                  No      Normal       Low  ...   \n",
            "\n",
            "  Survival_5_years Mortality Healthcare_Costs Incidence_Rate_per_100K  \\\n",
            "0              Yes        No            54413                      50   \n",
            "1              Yes        No            76553                      37   \n",
            "2              Yes        No            62805                      54   \n",
            "3              Yes        No            89393                      45   \n",
            "4              Yes        No            66425                      15   \n",
            "\n",
            "  Mortality_Rate_per_100K Urban_or_Rural Economic_Classification  \\\n",
            "0                       5          Urban               Developed   \n",
            "1                      25          Urban              Developing   \n",
            "2                      27          Urban               Developed   \n",
            "3                      11          Urban               Developed   \n",
            "4                      27          Urban              Developing   \n",
            "\n",
            "  Healthcare_Access Insurance_Status  Survival_Prediction  \n",
            "0          Moderate          Insured                  Yes  \n",
            "1              High        Uninsured                  Yes  \n",
            "2          Moderate        Uninsured                   No  \n",
            "3          Moderate          Insured                  Yes  \n",
            "4              High          Insured                  Yes  \n",
            "\n",
            "[5 rows x 27 columns]\n",
            "<class 'pandas.core.frame.DataFrame'>\n",
            "RangeIndex: 167497 entries, 0 to 167496\n",
            "Data columns (total 27 columns):\n",
            " #   Column                      Non-Null Count   Dtype \n",
            "---  ------                      --------------   ----- \n",
            " 0   Country                     167497 non-null  object\n",
            " 1   Age                         167497 non-null  int64 \n",
            " 2   Gender                      167497 non-null  object\n",
            " 3   Cancer_Stage                167497 non-null  object\n",
            " 4   Tumor_Size_mm               167497 non-null  int64 \n",
            " 5   Family_History              167497 non-null  object\n",
            " 6   Smoking_History             167497 non-null  object\n",
            " 7   Alcohol_Consumption         167497 non-null  object\n",
            " 8   Obesity_BMI                 167497 non-null  object\n",
            " 9   Diet_Risk                   167497 non-null  object\n",
            " 10  Physical_Activity           167497 non-null  object\n",
            " 11  Diabetes                    167497 non-null  object\n",
            " 12  Inflammatory_Bowel_Disease  167497 non-null  object\n",
            " 13  Genetic_Mutation            167497 non-null  object\n",
            " 14  Screening_History           167497 non-null  object\n",
            " 15  Early_Detection             167497 non-null  object\n",
            " 16  Treatment_Type              167497 non-null  object\n",
            " 17  Survival_5_years            167497 non-null  object\n",
            " 18  Mortality                   167497 non-null  object\n",
            " 19  Healthcare_Costs            167497 non-null  int64 \n",
            " 20  Incidence_Rate_per_100K     167497 non-null  int64 \n",
            " 21  Mortality_Rate_per_100K     167497 non-null  int64 \n",
            " 22  Urban_or_Rural              167497 non-null  object\n",
            " 23  Economic_Classification     167497 non-null  object\n",
            " 24  Healthcare_Access           167497 non-null  object\n",
            " 25  Insurance_Status            167497 non-null  object\n",
            " 26  Survival_Prediction         167497 non-null  object\n",
            "dtypes: int64(5), object(22)\n",
            "memory usage: 34.5+ MB\n",
            "None\n",
            "                Age  Tumor_Size_mm  Healthcare_Costs  Incidence_Rate_per_100K  \\\n",
            "count  167497.00000  167497.000000     167497.000000            167497.000000   \n",
            "mean       69.20078      42.005708      72452.168099                34.531562   \n",
            "std        11.87247      21.672206      27402.779597                14.447970   \n",
            "min        30.00000       5.000000      25000.000000                10.000000   \n",
            "25%        59.00000      23.000000      48760.000000                22.000000   \n",
            "50%        69.00000      42.000000      72344.000000                35.000000   \n",
            "75%        79.00000      61.000000      96227.000000                47.000000   \n",
            "max        89.00000      79.000000     119999.000000                59.000000   \n",
            "\n",
            "       Mortality_Rate_per_100K  \n",
            "count            167497.000000  \n",
            "mean                 17.023875  \n",
            "std                   7.208766  \n",
            "min                   5.000000  \n",
            "25%                  11.000000  \n",
            "50%                  17.000000  \n",
            "75%                  23.000000  \n",
            "max                  29.000000  \n",
            "Country                       0\n",
            "Age                           0\n",
            "Gender                        0\n",
            "Cancer_Stage                  0\n",
            "Tumor_Size_mm                 0\n",
            "Family_History                0\n",
            "Smoking_History               0\n",
            "Alcohol_Consumption           0\n",
            "Obesity_BMI                   0\n",
            "Diet_Risk                     0\n",
            "Physical_Activity             0\n",
            "Diabetes                      0\n",
            "Inflammatory_Bowel_Disease    0\n",
            "Genetic_Mutation              0\n",
            "Screening_History             0\n",
            "Early_Detection               0\n",
            "Treatment_Type                0\n",
            "Survival_5_years              0\n",
            "Mortality                     0\n",
            "Healthcare_Costs              0\n",
            "Incidence_Rate_per_100K       0\n",
            "Mortality_Rate_per_100K       0\n",
            "Urban_or_Rural                0\n",
            "Economic_Classification       0\n",
            "Healthcare_Access             0\n",
            "Insurance_Status              0\n",
            "Survival_Prediction           0\n",
            "dtype: int64\n"
          ]
        }
      ]
    },
    {
      "cell_type": "code",
      "source": [
        "sns.countplot(x='Survival_Prediction',data=df)\n",
        "plt.title('Distribution of Survival Prediction')\n",
        "plt.show()\n",
        "\n",
        "numerical_cols = ['Age','Tumor_Size_mm','Healthcare_Costs','Incidence_Rate_per_100K','Mortality_Rate_per_100K']\n",
        "for col in numerical_cols:\n",
        "    sns.boxplot(x=df[col])\n",
        "    plt.title(f'Boxplot of {col}')\n",
        "    plt.show()"
      ],
      "metadata": {
        "colab": {
          "base_uri": "https://localhost:8080/",
          "height": 1000
        },
        "id": "H0Anc--G2EFq",
        "outputId": "837a6395-b896-481c-8302-1b4cdc3dc9dc"
      },
      "execution_count": 10,
      "outputs": [
        {
          "output_type": "display_data",
          "data": {
            "text/plain": [
              "<Figure size 640x480 with 1 Axes>"
            ],
            "image/png": "[encoded data removed]"
          },
          "metadata": {}
        },
        {
          "output_type": "display_data",
          "data": {
            "text/plain": [
              "<Figure size 640x480 with 1 Axes>"
            ],
            "image/png": "[encoded data removed]"
          },
          "metadata": {}
        },
        {
          "output_type": "display_data",
          "data": {
            "text/plain": [
              "<Figure size 640x480 with 1 Axes>"
            ],
            "image/png": "[encoded data removed]"
          },
          "metadata": {}
        },
        {
          "output_type": "display_data",
          "data": {
            "text/plain": [
              "<Figure size 640x480 with 1 Axes>"
            ],
            "image/png": "[encoded data removed]"
          },
          "metadata": {}
        },
        {
          "output_type": "display_data",
          "data": {
            "text/plain": [
              "<Figure size 640x480 with 1 Axes>"
            ],
            "image/png": "[encoded data removed]"
          },
          "metadata": {}
        },
        {
          "output_type": "display_data",
          "data": {
            "text/plain": [
              "<Figure size 640x480 with 1 Axes>"
            ],
            "image/png": "[encoded data removed]"
          },
          "metadata": {}
        }
      ]
    },
    {
      "cell_type": "markdown",
      "source": [
        "Selecting features and target"
      ],
      "metadata": {
        "id": "YesTQ9IrLGH6"
      }
    },
    {
      "cell_type": "code",
      "source": [
        "X = df[[\"Age\",\"Healthcare_Costs\",\"Incidence_Rate_per_100K\",\"Mortality_Rate_per_100K\"]]\n",
        "y = df[\"Tumor_Size_mm\"]\n",
        "print(X.head())\n",
        "print(X)\n",
        "print(y)"
      ],
      "metadata": {
        "colab": {
          "base_uri": "https://localhost:8080/"
        },
        "id": "w_qWLxP3LIHX",
        "outputId": "b89ea816-76d0-4562-bab1-75a2cfad0162"
      },
      "execution_count": 11,
      "outputs": [
        {
          "output_type": "stream",
          "name": "stdout",
          "text": [
            "   Age  Healthcare_Costs  Incidence_Rate_per_100K  Mortality_Rate_per_100K\n",
            "0   77             54413                       50                        5\n",
            "1   59             76553                       37                       25\n",
            "2   66             62805                       54                       27\n",
            "3   83             89393                       45                       11\n",
            "4   66             66425                       15                       27\n",
            "        Age  Healthcare_Costs  Incidence_Rate_per_100K  \\\n",
            "0        77             54413                       50   \n",
            "1        59             76553                       37   \n",
            "2        66             62805                       54   \n",
            "3        83             89393                       45   \n",
            "4        66             66425                       15   \n",
            "...     ...               ...                      ...   \n",
            "167492   69            100924                       57   \n",
            "167493   79             90331                       39   \n",
            "167494   74             90631                       13   \n",
            "167495   68            114385                       18   \n",
            "167496   79             47204                       14   \n",
            "\n",
            "        Mortality_Rate_per_100K  \n",
            "0                             5  \n",
            "1                            25  \n",
            "2                            27  \n",
            "3                            11  \n",
            "4                            27  \n",
            "...                         ...  \n",
            "167492                       13  \n",
            "167493                       22  \n",
            "167494                       19  \n",
            "167495                       23  \n",
            "167496                       17  \n",
            "\n",
            "[167497 rows x 4 columns]\n",
            "0         69\n",
            "1         33\n",
            "2         17\n",
            "3         14\n",
            "4         34\n",
            "          ..\n",
            "167492    49\n",
            "167493    29\n",
            "167494    62\n",
            "167495    35\n",
            "167496    67\n",
            "Name: Tumor_Size_mm, Length: 167497, dtype: int64\n"
          ]
        }
      ]
    },
    {
      "cell_type": "code",
      "source": [
        "#Train / test split\n",
        "X_train,X_test,y_train,y_test=train_test_split(X,y,test_size=0.2,random_state=42)\n",
        "\n",
        "#function to evaluate models\n",
        "def evaluate_model(model,X_train,y_train,X_test,y_test,name=\"Model\"):\n",
        "    y_pred = model.predict(X_test)\n",
        "    return {\n",
        "        \"Model\":name,\n",
        "        \"R2\":r2_score(y_test,y_pred),\n",
        "        \"MSE\":mean_squared_error(y_test,y_pred),\n",
        "        \"MAE\":mean_absolute_error(y_test,y_pred)\n",
        "    }\n",
        "\n",
        "results = []"
      ],
      "metadata": {
        "id": "gRV2J4w8LQfQ"
      },
      "execution_count": 12,
      "outputs": []
    },
    {
      "cell_type": "code",
      "metadata": {
        "colab": {
          "base_uri": "https://localhost:8080/"
        },
        "id": "62de7338",
        "outputId": "a6de8d8e-5768-4127-a48c-580cc8c1361f"
      },
      "source": [
        "print(\"Shape and columns of X_train :\")\n",
        "print(X_train.shape)\n",
        "print(X_train.columns)\n",
        "\n",
        "print(\"Shape and columns of X_test :\")\n",
        "print(X_test.shape)\n",
        "print(X_test.columns)\n",
        "\n",
        "print(\"Shape of y_train :\")\n",
        "print(y_train.shape)\n",
        "\n",
        "print(\"Shape of y_test :\")\n",
        "print(y_test.shape)"
      ],
      "execution_count": 13,
      "outputs": [
        {
          "output_type": "stream",
          "name": "stdout",
          "text": [
            "Shape and columns of X_train :\n",
            "(133997, 4)\n",
            "Index(['Age', 'Healthcare_Costs', 'Incidence_Rate_per_100K',\n",
            "       'Mortality_Rate_per_100K'],\n",
            "      dtype='object')\n",
            "Shape and columns of X_test :\n",
            "(33500, 4)\n",
            "Index(['Age', 'Healthcare_Costs', 'Incidence_Rate_per_100K',\n",
            "       'Mortality_Rate_per_100K'],\n",
            "      dtype='object')\n",
            "Shape of y_train :\n",
            "(133997,)\n",
            "Shape of y_test :\n",
            "(33500,)\n"
          ]
        }
      ]
    },
    {
      "cell_type": "markdown",
      "source": [
        "1. Null Model ( mean only )"
      ],
      "metadata": {
        "id": "2pNjPmo6LVZF"
      }
    },
    {
      "cell_type": "code",
      "source": [
        "y_pred_null = np.repeat(y_train.mean(),len(y_test))\n",
        "results.append({\n",
        "    \"Model\":\"Null Model\",\n",
        "    \"R2\":r2_score(y_test,y_pred_null),\n",
        "    \"MSE\":mean_squared_error(y_test,y_pred_null),\n",
        "    \"MAE\":mean_absolute_error(y_test,y_pred_null)\n",
        "})"
      ],
      "metadata": {
        "id": "kU0mymZLLYNK"
      },
      "execution_count": 14,
      "outputs": []
    },
    {
      "cell_type": "markdown",
      "source": [
        "2. Forward Selection"
      ],
      "metadata": {
        "id": "a55Jhh7eLdrT"
      }
    },
    {
      "cell_type": "code",
      "source": [
        "remaining_features = list(X_train.columns)\n",
        "print(remaining_features)\n",
        "selected_features = []\n",
        "best_r2 = -np.inf\n",
        "\n",
        "while remaining_features:\n",
        "    scores = []\n",
        "    for feature in remaining_features:\n",
        "        features_to_try = selected_features + [feature]\n",
        "        X_train_fs = sm.add_constant(X_train[features_to_try])\n",
        "        model = sm.OLS(y_train, X_train_fs).fit()\n",
        "        scores.append((model.rsquared, feature))\n",
        "    scores.sort(reverse=True)\n",
        "    best_new_score, best_feature = scores[0]\n",
        "    if best_new_score > best_r2:\n",
        "        selected_features.append(best_feature)\n",
        "        remaining_features.remove(best_feature)\n",
        "        best_r2 = best_new_score\n",
        "    else:\n",
        "        break\n",
        "\n",
        "forward_model = LinearRegression().fit(X_train[selected_features], y_train)\n",
        "results.append(\n",
        "    evaluate_model(forward_model,\n",
        "                   X_train[selected_features], y_train,\n",
        "                   X_test[selected_features], y_test,\n",
        "                   \"Forward Selection\")\n",
        ")"
      ],
      "metadata": {
        "colab": {
          "base_uri": "https://localhost:8080/"
        },
        "id": "CiDPotMCLeyj",
        "outputId": "1675acfb-36d9-457b-a698-cee9f4fbaf2e"
      },
      "execution_count": null,
      "outputs": [
        {
          "output_type": "stream",
          "name": "stdout",
          "text": [
            "['Age', 'Healthcare_Costs', 'Incidence_Rate_per_100K', 'Mortality_Rate_per_100K']\n"
          ]
        }
      ]
    },
    {
      "cell_type": "markdown",
      "source": [
        "3. Backward Selection"
      ],
      "metadata": {
        "id": "XNcNC5-vLnnA"
      }
    },
    {
      "cell_type": "code",
      "source": [
        "features = list(X_train.columns)\n",
        "while len(features) > 0:\n",
        "    X_train_bs = sm.add_constant(X_train[features])\n",
        "    model = sm.OLS(y_train, X_train_bs).fit()\n",
        "    worst_pval = model.pvalues.drop(\"const\").max()\n",
        "    if worst_pval > 0.05:\n",
        "        worst_feature = model.pvalues.drop(\"const\").idxmax()\n",
        "        features.remove(worst_feature)\n",
        "    else:\n",
        "        break\n",
        "print(features)\n",
        "\n",
        "#check if features list is empty before fitting the model\n",
        "if features:\n",
        "    backward_model = LinearRegression().fit(X_train[features], y_train)\n",
        "    results.append(\n",
        "        evaluate_model(backward_model,\n",
        "                       X_train[features], y_train,\n",
        "                       X_test[features], y_test,\n",
        "                       \"Backward Selection\")\n",
        "    )\n",
        "else:\n",
        "    #handle the case where all features are removed ( Exp: append a result indicating no features were selected )\n",
        "    results.append({\n",
        "        \"Model\": \"Backward Selection\",\n",
        "        \"R2\": np.nan, #or some other indicator of no model fitted\n",
        "        \"MSE\": np.nan,\n",
        "        \"MAE\": np.nan\n",
        "    })"
      ],
      "metadata": {
        "colab": {
          "base_uri": "https://localhost:8080/"
        },
        "id": "_Ts3kT49Lod6",
        "outputId": "47801708-74e5-42ef-8c13-cb1563086e1a"
      },
      "execution_count": 15,
      "outputs": [
        {
          "output_type": "stream",
          "name": "stdout",
          "text": [
            "[]\n"
          ]
        }
      ]
    },
    {
      "cell_type": "markdown",
      "source": [
        "4. Lasso Regression"
      ],
      "metadata": {
        "id": "Cyu09iNrMM3u"
      }
    },
    {
      "cell_type": "code",
      "source": [
        "lasso = make_pipeline(StandardScaler(),LassoCV(cv=5,random_state=42))\n",
        "lasso.fit(X_train,y_train)\n",
        "results.append(evaluate_model(lasso,X_train,y_train,X_test,y_test,\"Lasso Regression (scaled)\"))\n"
      ],
      "metadata": {
        "id": "zUxP0YWQMNod"
      },
      "execution_count": 16,
      "outputs": []
    },
    {
      "cell_type": "markdown",
      "source": [
        "5. Ridge Regression"
      ],
      "metadata": {
        "id": "Uqn3K2C0MSnq"
      }
    },
    {
      "cell_type": "code",
      "source": [
        "ridge = make_pipeline(StandardScaler(),RidgeCV(cv=5))\n",
        "ridge.fit(X_train,y_train)\n",
        "results.append(evaluate_model(ridge,X_train,y_train,X_test,y_test,\"Ridge Regression (scaled)\"))"
      ],
      "metadata": {
        "id": "2M039kFsMVzs"
      },
      "execution_count": 17,
      "outputs": []
    },
    {
      "cell_type": "markdown",
      "source": [
        "6. Refit Model ( using Lasso-selected features )"
      ],
      "metadata": {
        "id": "-8m5H-NPMYjW"
      }
    },
    {
      "cell_type": "code",
      "source": [
        "#access the LassoCV model with in the pipeline to get coefficients\n",
        "lasso_model = lasso.named_steps['lassocv']\n",
        "lasso_features = X_train.columns[lasso_model.coef_ != 0]\n",
        "\n",
        "if len(lasso_features) > 0:\n",
        "    refit_model = LinearRegression().fit(X_train[lasso_features],y_train)\n",
        "    results.append(\n",
        "        evaluate_model(refit_model,\n",
        "                       X_train[lasso_features],y_train,\n",
        "                       X_test[lasso_features],y_test,\n",
        "                       \"Refit Model (Lasso features)\")\n",
        "    )\n",
        "else:\n",
        "    results.append({\"Model\":\"Refit Model ( Lasso features )\",\"R2\": None,\"MSE\": None,\"MAE\": None})"
      ],
      "metadata": {
        "id": "7g2PYZiAMZjF"
      },
      "execution_count": 18,
      "outputs": []
    },
    {
      "cell_type": "markdown",
      "source": [
        "Collect and display results"
      ],
      "metadata": {
        "id": "g4NZcyfpMc4t"
      }
    },
    {
      "cell_type": "code",
      "source": [
        "results_df = pd.DataFrame(results)\n",
        "# results_df = results_df.drop(columns=['Note'])\n",
        "print(results_df)"
      ],
      "metadata": {
        "colab": {
          "base_uri": "https://localhost:8080/"
        },
        "id": "VlXrysihMgT7",
        "outputId": "33704cb0-5e3b-4fb7-fa25-df253b6ba206"
      },
      "execution_count": 19,
      "outputs": [
        {
          "output_type": "stream",
          "name": "stdout",
          "text": [
            "                          Model        R2         MSE        MAE\n",
            "0                    Null Model -0.000033  471.304574  18.823084\n",
            "1            Backward Selection       NaN         NaN        NaN\n",
            "2     Lasso Regression (scaled) -0.000033  471.304574  18.823084\n",
            "3     Ridge Regression (scaled) -0.000074  471.323982  18.823819\n",
            "4  Refit Model (Lasso features) -0.000029  471.302755  18.823305\n"
          ]
        }
      ]
    },
    {
      "cell_type": "markdown",
      "metadata": {
        "id": "d147da5d"
      },
      "source": [
        "## Summary\n",
        "\n",
        "### Key Findings from Data Analysis\n",
        "\n",
        "- The initial analysis showed very weak linear correlations ( close to zero ) between the original features ( Age, Tumor_Size_mm, Incidence_Rate_per_100K, Mortality_Rate_per_100K ) and the target variable ( Healthcare_Costs ).  \n",
        "  Scatter plots backed this up by showing no clear linear trend.\n",
        "\n",
        "- Backward selection ( even with a higher p-value threshold of 0.15 ) didnot pick any features, which means there were no statistically significant linear relationships.  \n",
        "- Lasso regression also set all coefficients to zero and LassoCV chose a high alpha value ( 109.745 ). This indicates strong regularization was needed because of the lack of meaningful linear signals.\n",
        "\n",
        "- Through feature engineering, new interaction and polynomial terms were created, forming an updated dataset called X_engineered.\n",
        "\n",
        "- Linear, Ridge and Lasso regression models were then trained on these engineered features. Their performance metrics were calculated and stored for later comparison.\n",
        "\n",
        "### Insights and Next Steps\n",
        "\n",
        "- Since the original features did not show significant linear relationships, a basic linear model is not a good fit without some transformation or feature engineering.\n",
        "\n",
        "- The next step is to evaluate the performance metrics ( R^2, MSE, MAE ) of the models trained on the engineered features. This will help determine whether feature engineering improved performance and which model ( Linear, Ridge or Lasso ) works best for this dataset.\n"
      ]
    }
  ]
}